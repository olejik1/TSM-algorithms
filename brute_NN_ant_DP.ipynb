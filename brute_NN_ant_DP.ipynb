{
  "cells": [
    {
      "cell_type": "code",
      "execution_count": null,
      "id": "e8cb603b",
      "metadata": {
        "id": "e8cb603b"
      },
      "outputs": [],
      "source": [
        "from numpy import inf,random,pi,sin,cos\n",
        "from itertools import permutations\n",
        "from matplotlib import pyplot as plt"
      ]
    },
    {
      "cell_type": "code",
      "source": [
        "n = 5\n",
        "#C = [[random.choice([1,2,3,4,5]) for _ in range(n)] for _ in range(n)]\n",
        "\n",
        "C = [\n",
        "    [1,3,5,7,9],\n",
        "    [3,1,5,2,5],\n",
        "    [5,5,1,9,1],\n",
        "    [7,2,9,1,24],\n",
        "    [9,5,1,24,1]\n",
        "]\n",
        "\n",
        "for i in range(n):\n",
        "    C[i][i] = inf\n",
        "\n",
        "C"
      ],
      "metadata": {
        "colab": {
          "base_uri": "https://localhost:8080/"
        },
        "id": "I2bUipTTaYMi",
        "outputId": "92c6bdc1-700d-42e7-c595-302f1f615c20"
      },
      "id": "I2bUipTTaYMi",
      "execution_count": null,
      "outputs": [
        {
          "output_type": "execute_result",
          "data": {
            "text/plain": [
              "[[inf, 3, 5, 7, 9],\n",
              " [3, inf, 5, 2, 5],\n",
              " [5, 5, inf, 9, 1],\n",
              " [7, 2, 9, inf, 24],\n",
              " [9, 5, 1, 24, inf]]"
            ]
          },
          "metadata": {},
          "execution_count": 72
        }
      ]
    },
    {
      "cell_type": "code",
      "source": [
        "def Polygon(sides, radius=1, rotation=0, translation=None):\n",
        "    one_segment = pi * 2 / sides\n",
        "    points = [\n",
        "        (sin(one_segment * i + rotation) * radius,\n",
        "         cos(one_segment * i + rotation) * radius)\n",
        "        for i in range(sides)]\n",
        "    if translation:\n",
        "        points = [[sum(pair) for pair in zip(point, translation)]\n",
        "                  for point in points]\n",
        "    return points\n",
        "\n",
        "x, y = [], []\n",
        "for point in Polygon(n):\n",
        "    px, py = point\n",
        "    x.append(px)\n",
        "    y.append(py)\n",
        "plt.xlim(-1.2, 1.2)\n",
        "plt.ylim(-1.2, 1.2)\n",
        "plt.grid()\n",
        "plt.rcParams[\"figure.autolayout\"] = True\n",
        "for i in range(n):\n",
        "    for j in range(i, n):\n",
        "        if C[i][j] != inf:\n",
        "            plt.plot([x[i], x[j]], [y[i], y[j]], marker=\"o\", markersize=2, markeredgecolor=\"red\")\n",
        "            plt.text((x[i]+x[j])/2, (y[i]+y[j])/2, f'{C[i][j]}')\n",
        "plt.show()"
      ],
      "metadata": {
        "colab": {
          "base_uri": "https://localhost:8080/",
          "height": 297
        },
        "id": "oyPaTcPlI8nB",
        "outputId": "8fae08f7-5f41-4712-8d7f-2dc9947903ab"
      },
      "id": "oyPaTcPlI8nB",
      "execution_count": null,
      "outputs": [
        {
          "output_type": "display_data",
          "data": {
            "text/plain": [
              "<Figure size 432x288 with 1 Axes>"
            ],
            "image/png": "[encoded data removed]"
          },
          "metadata": {
            "needs_background": "light"
          }
        }
      ]
    },
    {
      "cell_type": "code",
      "execution_count": null,
      "id": "5edb48f2",
      "metadata": {
        "colab": {
          "base_uri": "https://localhost:8080/"
        },
        "id": "5edb48f2",
        "outputId": "071b7d44-07d2-4b58-f3de-d40843678848"
      },
      "outputs": [
        {
          "output_type": "execute_result",
          "data": {
            "text/plain": [
              "('02413', 20)"
            ]
          },
          "metadata": {},
          "execution_count": 74
        }
      ],
      "source": [
        "# Алгоритм полного перебора\n",
        "\n",
        "def BruteTSM(C,start=0):\n",
        "  nodes = [i for i in range(n)]\n",
        "  nodes.pop(start)\n",
        "  roads =  [''.join(permutation) for permutation in permutations(''.join(str(node) for node in nodes))]\n",
        "  road_lengths = {}\n",
        "\n",
        "  for road in roads:\n",
        "    road_length = 0\n",
        "    from_node = start\n",
        "    for to_node in road:\n",
        "      road_length += C[int(from_node)][int(to_node)]\n",
        "      from_node = to_node\n",
        "    road_length += C[int(to_node)][int(start)]\n",
        "    road_lengths[str(start)+road] = road_length\n",
        "  for k,v in road_lengths.items():\n",
        "    if v == min(road_lengths.values()):\n",
        "      return k,road_lengths[k]\n",
        "\n",
        "BruteTSM(C)"
      ]
    },
    {
      "cell_type": "code",
      "source": [
        "# Алгоритм ближайшего соседа\n",
        "\n",
        "def NearestNeighbour(C):\n",
        "  roads = []\n",
        "  for start in range(n):\n",
        "    trvld = [start,]\n",
        "    road = 0\n",
        "\n",
        "    current = start\n",
        "    while len(trvld) != n:\n",
        "        mn = inf\n",
        "        nearest = inf\n",
        "        \n",
        "        for i in range(n):\n",
        "            if i not in trvld:\n",
        "                if C[current][i] < mn: \n",
        "                    mn = C[current][i]\n",
        "                    nearest = i\n",
        "        \n",
        "        road += C[current][nearest]\n",
        "        trvld.append(nearest)\n",
        "        current = nearest\n",
        "\n",
        "    road += C[current][start]\n",
        "    roads.append((''.join(str(node) for node in trvld),road))\n",
        "  return min(roads,key=lambda x: x[1])\n",
        "\n",
        "NearestNeighbour(C)"
      ],
      "metadata": {
        "colab": {
          "base_uri": "https://localhost:8080/"
        },
        "id": "2POWsC6OUZzN",
        "outputId": "3e3db513-b5f4-44d4-b776-5a6f0fde44f7"
      },
      "id": "2POWsC6OUZzN",
      "execution_count": null,
      "outputs": [
        {
          "output_type": "execute_result",
          "data": {
            "text/plain": [
              "('13024', 20)"
            ]
          },
          "metadata": {},
          "execution_count": 75
        }
      ]
    },
    {
      "cell_type": "code",
      "source": [
        "# Муравьиный алгоритм\n",
        "\n",
        "#     No ant colony optimization?\n",
        "#⠀ ⣞⢽⢪⢣⢣⢣⢫⡺⡵⣝⡮⣗⢷⢽⢽⢽⣮⡷⡽⣜⣜⢮⢺⣜⢷⢽⢝⡽⣝\n",
        "#⠀⣞⢽⢪⢣⢣⢣⢫⡺⡵⣝⡮⣗⢷⢽⢽⢽⣮⡷⡽⣜⣜⢮⢺⣜⢷⢽⢝⡽⣝\n",
        "#⠸⡸⠜⠕⠕⠁⢁⢇⢏⢽⢺⣪⡳⡝⣎⣏⢯⢞⡿⣟⣷⣳⢯⡷⣽⢽⢯⣳⣫⠇\n",
        "#⠀⠀⢀⢀⢄⢬⢪⡪⡎⣆⡈⠚⠜⠕⠇⠗⠝⢕⢯⢫⣞⣯⣿⣻⡽⣏⢗⣗⠏⠀\n",
        "#⠀⠪⡪⡪⣪⢪⢺⢸⢢⢓⢆⢤⢀⠀⠀⠀⠀⠈⢊⢞⡾⣿⡯⣏⢮⠷⠁⠀⠀\n",
        "#⠀⠀⠀⠈⠊⠆⡃⠕⢕⢇⢇⢇⢇⢇⢏⢎⢎⢆⢄⠀⢑⣽⣿⢝⠲⠉⠀⠀⠀⠀\n",
        "#⠀⠀⠀⠀⠀⡿⠂⠠⠀⡇⢇⠕⢈⣀⠀⠁⠡⠣⡣⡫⣂⣿⠯⢪⠰⠂⠀⠀⠀⠀\n",
        "#⠀⠀⠀⠀⡦⡙⡂⢀⢤⢣⠣⡈⣾⡃⠠⠄⠀⡄⢱⣌⣶⢏⢊⠂⠀⠀⠀⠀⠀⠀\n",
        "#⠀⠀⠀⠀⢝⡲⣜⡮⡏⢎⢌⢂⠙⠢⠐⢀⢘⢵⣽⣿⡿⠁⠁⠀⠀⠀⠀⠀⠀⠀\n",
        "#⠀⠀⠀⠀⠨⣺⡺⡕⡕⡱⡑⡆⡕⡅⡕⡜⡼⢽⡻⠏⠀⠀⠀⠀⠀⠀⠀⠀⠀⠀\n",
        "#⠀⠀⠀⠀⣼⣳⣫⣾⣵⣗⡵⡱⡡⢣⢑⢕⢜⢕⡝⠀⠀⠀⠀⠀⠀⠀⠀⠀⠀⠀\n",
        "#⠀⠀⠀⣴⣿⣾⣿⣿⣿⡿⡽⡑⢌⠪⡢⡣⣣⡟⠀⠀⠀⠀⠀⠀⠀⠀⠀⠀⠀⠀\n",
        "#⠀⠀⠀⡟⡾⣿⢿⢿⢵⣽⣾⣼⣘⢸⢸⣞⡟⠀⠀⠀⠀⠀⠀⠀⠀⠀⠀⠀⠀⠀\n",
        "#⠀⠀⠀⠀⠁⠇⠡⠩⡫⢿⣝⡻⡮⣒⢽⠋⠀⠀\n",
        "#      ⢣⢫⡺⡵⣝⡮⣗⢷⠋⠀\n",
        "#      ⢫⡺⡵⣝⡮⢷⠋⠀\n",
        "\n",
        "\n",
        "def AntAlgorithm(C,a,b,base_ph,LOOPS,Q,airing_coefficient):\n",
        "  full_paths = {}\n",
        "  all_nodes = {i for i in range(n)}\n",
        "  pheromones = [[base_ph for _ in range(n)] for _ in range(n)]\n",
        "  for i in range(n):\n",
        "    pheromones[i][i] = 0\n",
        "\n",
        "  for k in range(LOOPS):\n",
        "    delta_pheromones = [[0 for _ in range(n)] for _ in range(n)]\n",
        "\n",
        "    for starting_node in all_nodes:\n",
        "      trvld = str(starting_node)\n",
        "      trvld_set = {int(node) for node in trvld}\n",
        "      path_length = 0\n",
        "\n",
        "      i = starting_node\n",
        "      for _ in range(n-1):\n",
        "        remaining_nodes = all_nodes-trvld_set\n",
        "        weights = [C[i][j]**(-a) * pheromones[i][j]**b  if j in remaining_nodes else 0 for j in all_nodes]\n",
        "        weights_sum = sum(weights)\n",
        "        route_probabilities = {j:(weights[j]/weights_sum if j in remaining_nodes else 0) for j in all_nodes} \n",
        "\n",
        "        CHOOSE = random.random_sample()\n",
        "        j = -1\n",
        "        while CHOOSE > 0:\n",
        "          j += 1\n",
        "          CHOOSE -= route_probabilities[j]\n",
        "        \n",
        "        trvld += str(j)\n",
        "        trvld_set = {int(node) for node in trvld}\n",
        "        path_length += C[i][j]\n",
        "        i = j\n",
        "\n",
        "      full_paths[trvld] = path_length + C[int(trvld[-1])][int(trvld[0])]\n",
        "      for i in range(n-1):\n",
        "        delta_pheromones[int(trvld[i])][int(trvld[i+1])] += Q/path_length\n",
        "      pheromones = [[(1-airing_coefficient)*pheromones[i][j] + delta_pheromones[i][j] for i in range(n)] for j in range(n)]\n",
        "    return min(full_paths.items(),key=lambda x: x[1])\n",
        "\n",
        "\n",
        "a = 10\n",
        "b = 1\n",
        "base_ph = 0.2\n",
        "LOOPS = 1000\n",
        "Q = 10\n",
        "airing_coefficient = 0.2\n",
        "AntAlgorithm(C,a,b,base_ph,LOOPS,Q,airing_coefficient)"
      ],
      "metadata": {
        "id": "4LR0dTcKuXVj",
        "colab": {
          "base_uri": "https://localhost:8080/"
        },
        "outputId": "e1aa1957-bf55-4f5e-c1a4-07a37e3f3308"
      },
      "id": "4LR0dTcKuXVj",
      "execution_count": null,
      "outputs": [
        {
          "output_type": "execute_result",
          "data": {
            "text/plain": [
              "('13024', 20)"
            ]
          },
          "metadata": {},
          "execution_count": 76
        }
      ]
    },
    {
      "cell_type": "code",
      "source": [
        "# Алгоритм динамического программирования\n",
        "\n",
        "def DPAlgorithm(C,start=0):\n",
        "  def findCheapest(i, mask):\n",
        "    if dp[i][mask] != inf:\n",
        "      return dp[i][mask]\n",
        "    for j in range(n):\n",
        "      if C[i][j] != 0 and ((mask >> j) & 1 == 1):\n",
        "        dp[i][mask] = min(dp[i][mask], findCheapest(j, mask - 2**j) + C[i][j])\n",
        "    return dp[i][mask]\n",
        "\n",
        "  def findWay(i,mask,best):\n",
        "    way = [i,]\n",
        "\n",
        "    while mask != 0:\n",
        "      for j in range(n):\n",
        "        if C[i][j] != 0 and ((mask >> j) & 1 == 1) and (dp[i][mask] == dp[j][mask - 2**j] + C[i][j]): \n",
        "          way.append(j)\n",
        "          i = j\n",
        "          mask -= 2**j\n",
        "          continue\n",
        "    return \"\".join(str(way[i]) for i in range(n)),best\n",
        "  dp = [[inf] * (2**n) for i in range(n)]\n",
        "  dp[0][0] = 0\n",
        "  mask = 2**n - 1\n",
        "  return findWay(start,mask,findCheapest(start,mask))\n",
        "\n",
        "DPAlgorithm(C)"
      ],
      "metadata": {
        "colab": {
          "base_uri": "https://localhost:8080/"
        },
        "id": "obe5T8F7Z4zt",
        "outputId": "18304897-50fe-42c6-80ca-68a4ec2a574a"
      },
      "id": "obe5T8F7Z4zt",
      "execution_count": null,
      "outputs": [
        {
          "output_type": "execute_result",
          "data": {
            "text/plain": [
              "('02413', 20)"
            ]
          },
          "metadata": {},
          "execution_count": 77
        }
      ]
    }
  ],
  "metadata": {
    "kernelspec": {
      "display_name": "Python 3 (ipykernel)",
      "language": "python",
      "name": "python3"
    },
    "language_info": {
      "codemirror_mode": {
        "name": "ipython",
        "version": 3
      },
      "file_extension": ".py",
      "mimetype": "text/x-python",
      "name": "python",
      "nbconvert_exporter": "python",
      "pygments_lexer": "ipython3",
      "version": "3.9.7"
    },
    "colab": {
      "name": "brute-NN-ant-DP.ipynb",
      "provenance": [],
      "collapsed_sections": []
    }
  },
  "nbformat": 4,
  "nbformat_minor": 5
}